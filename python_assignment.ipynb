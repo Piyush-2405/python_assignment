{
 "cells": [
  {
   "cell_type": "markdown",
   "id": "65db485a-4187-49de-bec4-81535a7b02f4",
   "metadata": {},
   "source": [
    "1. Explain with an example each when to use a for loop and a while loop. \n"
   ]
  },
  {
   "cell_type": "markdown",
   "id": "f5d92848-abe0-477a-9fd0-714d3d5e0254",
   "metadata": {},
   "source": [
    "The for loop is used when we already know the number of iterations, which means when we know \n",
    "how many times a statement has to be executed. That is why we have to specify the ending point in the for loop initialization."
   ]
  },
  {
   "cell_type": "code",
   "execution_count": 2,
   "id": "ecc65256-d23b-41f6-aa8b-7dd7732f6e5b",
   "metadata": {},
   "outputs": [
    {
     "name": "stdout",
     "output_type": "stream",
     "text": [
      "Input list elements:\n",
      "10\n",
      "20\n",
      "30\n",
      "40\n",
      "50\n"
     ]
    }
   ],
   "source": [
    "inputList = [10, 20, 30, 40, 50]\n",
    "print(\"Input list elements:\")\n",
    "for element in inputList:\n",
    "   print(element)\n"
   ]
  },
  {
   "cell_type": "code",
   "execution_count": 4,
   "id": "2eb30283-16f5-4dcf-99f6-6ab7f429a3ff",
   "metadata": {},
   "outputs": [
    {
     "name": "stdout",
     "output_type": "stream",
     "text": [
      "1\n",
      "2\n",
      "3\n",
      "4\n",
      "5\n",
      "6\n",
      "7\n",
      "8\n",
      "9\n"
     ]
    }
   ],
   "source": [
    "i = 1\n",
    "while i < 10:\n",
    "   print(i)\n",
    "   i += 1 "
   ]
  },
  {
   "cell_type": "markdown",
   "id": "9148fbe5-2fc6-4647-a5cd-59b6f05dac9d",
   "metadata": {},
   "source": [
    "2.  Write a python program to print the sum and product of the first 10 natural numbers using for  and while loop. "
   ]
  },
  {
   "cell_type": "code",
   "execution_count": 3,
   "id": "96b10d27-21e0-4f78-9961-bb567f04f19e",
   "metadata": {},
   "outputs": [
    {
     "name": "stdout",
     "output_type": "stream",
     "text": [
      "The sum of first 10 natural numbers using for loop: 55\n",
      "The product of first 10 natural numbers using for loop: 3628800\n",
      "The sum of first 10 natural numbers using while loop: 55\n",
      "The product of first 10 natural numbers using while loop: 3628800\n"
     ]
    }
   ],
   "source": [
    "# using for loop\n",
    "sum = 0\n",
    "product = 1\n",
    "for i in range(1, 11):\n",
    "    sum += i\n",
    "    product *= i\n",
    "print(\"The sum of first 10 natural numbers using for loop:\", sum)\n",
    "print(\"The product of first 10 natural numbers using for loop:\", product)\n",
    "\n",
    "# using while loop\n",
    "sum = 0\n",
    "product = 1\n",
    "i = 1\n",
    "while i <= 10:\n",
    "    sum += i\n",
    "    product *= i\n",
    "    i += 1\n",
    "print(\"The sum of first 10 natural numbers using while loop:\", sum)\n",
    "print(\"The product of first 10 natural numbers using while loop:\", product)"
   ]
  },
  {
   "cell_type": "markdown",
   "id": "6f0e3d70-4c48-4a1e-af99-629486fe06b0",
   "metadata": {},
   "source": [
    "Q3. Create a python program to compute the electricity bill for a household. \n",
    "The per-unit charges in rupees are as follows: For the first 100 units, the user will be charged Rs. 4.5 per  unit, for the next 100 units, the user will be charged Rs. 6 per unit, and for the next 100 units, the user will  be charged Rs. 10 per unit, After 300 units and above the user will be charged Rs. 20 per unit. \n"
   ]
  },
  {
   "cell_type": "code",
   "execution_count": 4,
   "id": "e20604cc-9bd8-4ed6-a415-c4f248cd080d",
   "metadata": {},
   "outputs": [
    {
     "name": "stdin",
     "output_type": "stream",
     "text": [
      "Enter the number of units consumed:  310\n"
     ]
    },
    {
     "name": "stdout",
     "output_type": "stream",
     "text": [
      "The total bill amount is: Rs. 2250.0\n"
     ]
    }
   ],
   "source": [
    "\n",
    "units = int(input(\"Enter the number of units consumed: \"))\n",
    "\n",
    "if units <= 100:\n",
    "    bill = units * 4.5\n",
    "elif units <= 200:\n",
    "    bill = 100 * 4.5 + (units - 100) * 6\n",
    "elif units <= 300:\n",
    "    bill = 100 * 4.5 + 100 * 6 + (units - 200) * 10\n",
    "else:\n",
    "    bill = 100 * 4.5 + 100 * 6 + 100 * 10 + (units - 300) * 20\n",
    "\n",
    "print(\"The total bill amount is: Rs.\", bill)\n"
   ]
  },
  {
   "cell_type": "markdown",
   "id": "54d35dd2-0849-479b-b6ad-3a5f351f9c79",
   "metadata": {},
   "source": [
    "Q4. Create a list of numbers from 1 to 100. Use for loop and while loop to calculate the cube of each  number and if the cube of that number is divisible by 4 or 5 then append that number in a list and print  that list. "
   ]
  },
  {
   "cell_type": "code",
   "execution_count": 6,
   "id": "c4a6b622-d446-4d4a-9f9f-dca24e936a9d",
   "metadata": {},
   "outputs": [
    {
     "name": "stdout",
     "output_type": "stream",
     "text": [
      "Using for loop: [8, 64, 125, 216, 512, 1000, 1728, 2744, 3375, 4096, 5832, 8000, 10648, 13824, 15625, 17576, 21952, 27000, 32768, 39304, 42875, 46656, 54872, 64000, 74088, 85184, 91125, 97336, 110592, 125000, 140608, 157464, 166375, 175616, 195112, 216000, 238328, 262144, 274625, 287496, 314432, 343000, 373248, 405224, 421875, 438976, 474552, 512000, 551368, 592704, 614125, 636056, 681472, 729000, 778688, 830584, 857375, 884736, 941192, 1000000]\n",
      "Using while loop: [8, 64, 125, 216, 512, 1000, 1728, 2744, 3375, 4096, 5832, 8000, 10648, 13824, 15625, 17576, 21952, 27000, 32768, 39304, 42875, 46656, 54872, 64000, 74088, 85184, 91125, 97336, 110592, 125000, 140608, 157464, 166375, 175616, 195112, 216000, 238328, 262144, 274625, 287496, 314432, 343000, 373248, 405224, 421875, 438976, 474552, 512000, 551368, 592704, 614125, 636056, 681472, 729000, 778688, 830584, 857375, 884736, 941192, 1000000]\n"
     ]
    }
   ],
   "source": [
    "# Using for loop\n",
    "l1 = []\n",
    "for num in range(1,101):\n",
    "    cube = num**3\n",
    "    if (cube % 4 == 0) or (cube % 5 == 0):\n",
    "        l1.append(cube)\n",
    "print(\"Using for loop:\", l1)\n",
    "\n",
    "# Using while loop\n",
    "l2 = []\n",
    "num = 1\n",
    "while num <= 100:\n",
    "    cube = num**3\n",
    "    if (cube % 4 == 0) or (cube % 5 == 0):\n",
    "        l2.append(cube)\n",
    "    num += 1\n",
    "print(\"Using while loop:\",l2)\n"
   ]
  },
  {
   "cell_type": "markdown",
   "id": "71e98686-9d46-4a50-96e8-087f3b7c4c16",
   "metadata": {},
   "source": [
    "Q5.  Write a program to filter count vowels in the below-given string. \n",
    "string = \"I want to become a data scientist\" "
   ]
  },
  {
   "cell_type": "code",
   "execution_count": null,
   "id": "da8ad996-aa56-4756-a1a8-6d8d2d5e432f",
   "metadata": {},
   "outputs": [],
   "source": []
  }
 ],
 "metadata": {
  "kernelspec": {
   "display_name": "Python 3 (ipykernel)",
   "language": "python",
   "name": "python3"
  },
  "language_info": {
   "codemirror_mode": {
    "name": "ipython",
    "version": 3
   },
   "file_extension": ".py",
   "mimetype": "text/x-python",
   "name": "python",
   "nbconvert_exporter": "python",
   "pygments_lexer": "ipython3",
   "version": "3.10.8"
  }
 },
 "nbformat": 4,
 "nbformat_minor": 5
}
